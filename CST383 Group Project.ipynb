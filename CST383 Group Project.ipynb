{
 "cells": [
  {
   "cell_type": "markdown",
   "id": "5d248c51",
   "metadata": {},
   "source": [
    "# Project Specifications CST 383 Data Science"
   ]
  },
  {
   "cell_type": "markdown",
   "id": "fdfc8e5d",
   "metadata": {},
   "source": [
    "Thomas Wooten, Austin Stewart, Miguel Nunez"
   ]
  },
  {
   "cell_type": "markdown",
   "id": "4501a8f9",
   "metadata": {},
   "source": [
    "# Research Question"
   ]
  },
  {
   "cell_type": "markdown",
   "id": "6913a4cc",
   "metadata": {},
   "source": [
    "Given the population and violent crime of a city, can we predict the amount of property crime"
   ]
  },
  {
   "cell_type": "markdown",
   "id": "f180206a",
   "metadata": {},
   "source": [
    "# Hypothesis"
   ]
  },
  {
   "cell_type": "markdown",
   "id": "f1a99254",
   "metadata": {},
   "source": [
    "# Data Set"
   ]
  },
  {
   "cell_type": "markdown",
   "id": "7b352e73",
   "metadata": {},
   "source": [
    "https://github.com/wootent/CST383-Group-Project/blob/b70608b808cf8b08abf9809803f8a730d454787d/california.xls"
   ]
  },
  {
   "cell_type": "markdown",
   "id": "4ebd3364",
   "metadata": {},
   "source": [
    "# Description of Data Set"
   ]
  },
  {
   "cell_type": "markdown",
   "id": "617c5175",
   "metadata": {},
   "source": [
    "Orginal data set taken from:\n",
    "https://ucr.fbi.gov/crime-in-the-u.s/2019/crime-in-the-u.s.-2019/tables/table-8/table-8-state-cuts/california.xls\n",
    "\n",
    "• Source - US department of Justice, Fedral Burearu of Investigation\n",
    "• 2019\n",
    "• Offenses Known to Law Enforcement by city\n",
    "• data has no N/A values"
   ]
  },
  {
   "cell_type": "markdown",
   "id": "08114c94",
   "metadata": {},
   "source": [
    "# Features used in our final model"
   ]
  },
  {
   "cell_type": "markdown",
   "id": "e1091962",
   "metadata": {},
   "source": [
    "Population, Burglary, Larceny Theft, Motor Vehicle Theft, Property Crime"
   ]
  },
  {
   "cell_type": "markdown",
   "id": "152a7d40",
   "metadata": {},
   "source": [
    "# Machine Learning Model"
   ]
  },
  {
   "cell_type": "markdown",
   "id": "b069f4f6",
   "metadata": {},
   "source": [
    "# Data Exploration"
   ]
  },
  {
   "cell_type": "code",
   "execution_count": 10,
   "id": "18bbc6ec",
   "metadata": {},
   "outputs": [],
   "source": [
    "import pandas as pd\n",
    "import numpy as np\n",
    "\n",
    "#read in the data\n",
    "data = pd.read_excel('https://github.com/wootent/CST383-Group-Project/blob/86644cf161197b82847f0a9c8b87e94998a50abe/california.xls?raw=true', header=4)\n"
   ]
  },
  {
   "cell_type": "code",
   "execution_count": 11,
   "id": "8b98f06c",
   "metadata": {},
   "outputs": [
    {
     "name": "stdout",
     "output_type": "stream",
     "text": [
      "<class 'pandas.core.frame.DataFrame'>\n",
      "RangeIndex: 458 entries, 0 to 457\n",
      "Data columns (total 12 columns):\n",
      " #   Column                                Non-Null Count  Dtype  \n",
      "---  ------                                --------------  -----  \n",
      " 0   City                                  458 non-null    object \n",
      " 1   Population                            457 non-null    float64\n",
      " 2   Violent\n",
      "crime                         457 non-null    float64\n",
      " 3   Murder and\n",
      "nonnegligent\n",
      "manslaughter  457 non-null    float64\n",
      " 4   Rape1                                 457 non-null    float64\n",
      " 5   Robbery                               457 non-null    float64\n",
      " 6   Aggravated\n",
      "assault                    457 non-null    float64\n",
      " 7   Property\n",
      "crime                        457 non-null    float64\n",
      " 8   Burglary                              457 non-null    float64\n",
      " 9   Larceny-\n",
      "theft                        457 non-null    float64\n",
      " 10  Motor\n",
      "vehicle\n",
      "theft                   457 non-null    float64\n",
      " 11  Arson                                 457 non-null    float64\n",
      "dtypes: float64(11), object(1)\n",
      "memory usage: 43.1+ KB\n"
     ]
    }
   ],
   "source": [
    "#data information\n",
    "data.info()"
   ]
  },
  {
   "cell_type": "markdown",
   "id": "3c9fabf5",
   "metadata": {},
   "source": [
    "# Preprocessing"
   ]
  },
  {
   "cell_type": "code",
   "execution_count": 12,
   "id": "7d0478ee",
   "metadata": {},
   "outputs": [],
   "source": [
    "#clean up column names by removing the \\n charater\n",
    "data.columns = [x.replace(\"\\n\", \" \") for x in data.columns.to_list()]"
   ]
  },
  {
   "cell_type": "code",
   "execution_count": 13,
   "id": "2cc0e56f",
   "metadata": {},
   "outputs": [
    {
     "name": "stdout",
     "output_type": "stream",
     "text": [
      "<class 'pandas.core.frame.DataFrame'>\n",
      "RangeIndex: 458 entries, 0 to 457\n",
      "Data columns (total 12 columns):\n",
      " #   Column                                Non-Null Count  Dtype  \n",
      "---  ------                                --------------  -----  \n",
      " 0   City                                  458 non-null    object \n",
      " 1   Population                            457 non-null    float64\n",
      " 2   Violent crime                         457 non-null    float64\n",
      " 3   Murder and nonnegligent manslaughter  457 non-null    float64\n",
      " 4   Rape1                                 457 non-null    float64\n",
      " 5   Robbery                               457 non-null    float64\n",
      " 6   Aggravated assault                    457 non-null    float64\n",
      " 7   Property crime                        457 non-null    float64\n",
      " 8   Burglary                              457 non-null    float64\n",
      " 9   Larceny- theft                        457 non-null    float64\n",
      " 10  Motor vehicle theft                   457 non-null    float64\n",
      " 11  Arson                                 457 non-null    float64\n",
      "dtypes: float64(11), object(1)\n",
      "memory usage: 43.1+ KB\n"
     ]
    }
   ],
   "source": [
    "#data information\n",
    "data.info()"
   ]
  },
  {
   "cell_type": "markdown",
   "id": "294729ce",
   "metadata": {},
   "source": [
    "# Data Visualization"
   ]
  },
  {
   "cell_type": "code",
   "execution_count": null,
   "id": "d57a7178",
   "metadata": {},
   "outputs": [],
   "source": []
  }
 ],
 "metadata": {
  "kernelspec": {
   "display_name": "Python 3 (ipykernel)",
   "language": "python",
   "name": "python3"
  },
  "language_info": {
   "codemirror_mode": {
    "name": "ipython",
    "version": 3
   },
   "file_extension": ".py",
   "mimetype": "text/x-python",
   "name": "python",
   "nbconvert_exporter": "python",
   "pygments_lexer": "ipython3",
   "version": "3.9.7"
  }
 },
 "nbformat": 4,
 "nbformat_minor": 5
}
