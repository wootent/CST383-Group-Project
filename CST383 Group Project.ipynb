{
 "cells": [
  {
   "cell_type": "markdown",
   "id": "c1355c59",
   "metadata": {},
   "source": [
    "# Project Specifications CST 383 Data Science"
   ]
  },
  {
   "cell_type": "markdown",
   "id": "34e43a04",
   "metadata": {},
   "source": [
    "Thomas Wooten, Austin Stewart, Miguel Nunez"
   ]
  },
  {
   "cell_type": "markdown",
   "id": "ad2e76f1",
   "metadata": {},
   "source": [
    "# Research Question"
   ]
  },
  {
   "cell_type": "markdown",
   "id": "b06d190b",
   "metadata": {},
   "source": [
    "Given the population and violent crime of a city, can we predict the amount of property crime"
   ]
  },
  {
   "cell_type": "markdown",
   "id": "c35f259b",
   "metadata": {},
   "source": [
    "# Hypothesis"
   ]
  },
  {
   "cell_type": "markdown",
   "id": "314869c8",
   "metadata": {},
   "source": [
    "# Data Set"
   ]
  },
  {
   "cell_type": "markdown",
   "id": "c3993a2f",
   "metadata": {},
   "source": [
    "https://github.com/wootent/CST383-Group-Project/blob/b70608b808cf8b08abf9809803f8a730d454787d/california.xls"
   ]
  },
  {
   "cell_type": "markdown",
   "id": "48907c5f",
   "metadata": {},
   "source": [
    "# Description of Data Set"
   ]
  },
  {
   "cell_type": "markdown",
   "id": "f2409239",
   "metadata": {},
   "source": [
    "Orginal data set taken from:\n",
    "https://ucr.fbi.gov/crime-in-the-u.s/2019/crime-in-the-u.s.-2019/tables/table-8/table-8-state-cuts/california.xls\n",
    "\n",
    "• Source - US department of Justice, Fedral Burearu of Investigation\n",
    "• 2019\n",
    "• Offenses Known to Law Enforcement by city"
   ]
  },
  {
   "cell_type": "markdown",
   "id": "37432c5c",
   "metadata": {},
   "source": [
    "# Features used in our final model"
   ]
  },
  {
   "cell_type": "markdown",
   "id": "49ff0fc7",
   "metadata": {},
   "source": [
    "Population, Burglary, Larceny Theft, Motor Vehicle Theft, Property Crime"
   ]
  },
  {
   "cell_type": "markdown",
   "id": "3fe4a130",
   "metadata": {},
   "source": [
    "# Machine Learning Model"
   ]
  },
  {
   "cell_type": "markdown",
   "id": "b9c4fb31",
   "metadata": {},
   "source": [
    "# Data Exploration"
   ]
  },
  {
   "cell_type": "code",
   "execution_count": 10,
   "id": "bf8486e3",
   "metadata": {},
   "outputs": [],
   "source": [
    "import pandas as pd\n",
    "import numpy as np\n",
    "\n",
    "#read in the data\n",
    "data = pd.read_excel('https://github.com/wootent/CST383-Group-Project/blob/86644cf161197b82847f0a9c8b87e94998a50abe/california.xls?raw=true', header=4)\n"
   ]
  },
  {
   "cell_type": "code",
   "execution_count": 18,
   "id": "24d7f1a0",
   "metadata": {},
   "outputs": [
    {
     "data": {
      "text/plain": [
       "(458, 12)"
      ]
     },
     "execution_count": 18,
     "metadata": {},
     "output_type": "execute_result"
    }
   ],
   "source": [
    "#shape\n",
    "data.shape"
   ]
  },
  {
   "cell_type": "code",
   "execution_count": 14,
   "id": "7d110675",
   "metadata": {},
   "outputs": [
    {
     "data": {
      "text/plain": [
       "True"
      ]
     },
     "execution_count": 14,
     "metadata": {},
     "output_type": "execute_result"
    }
   ],
   "source": [
    "#any nan\n",
    "data.isnull().values.any()"
   ]
  },
  {
   "cell_type": "code",
   "execution_count": 16,
   "id": "61acfac5",
   "metadata": {},
   "outputs": [
    {
     "data": {
      "text/plain": [
       "City                                    0\n",
       "Population                              1\n",
       "Violent crime                           1\n",
       "Murder and nonnegligent manslaughter    1\n",
       "Rape1                                   1\n",
       "Robbery                                 1\n",
       "Aggravated assault                      1\n",
       "Property crime                          1\n",
       "Burglary                                1\n",
       "Larceny- theft                          1\n",
       "Motor vehicle theft                     1\n",
       "Arson                                   1\n",
       "dtype: int64"
      ]
     },
     "execution_count": 16,
     "metadata": {},
     "output_type": "execute_result"
    }
   ],
   "source": [
    "data.isna().sum()"
   ]
  },
  {
   "cell_type": "code",
   "execution_count": 11,
   "id": "6ab0ebc7",
   "metadata": {},
   "outputs": [
    {
     "name": "stdout",
     "output_type": "stream",
     "text": [
      "<class 'pandas.core.frame.DataFrame'>\n",
      "RangeIndex: 458 entries, 0 to 457\n",
      "Data columns (total 12 columns):\n",
      " #   Column                                Non-Null Count  Dtype  \n",
      "---  ------                                --------------  -----  \n",
      " 0   City                                  458 non-null    object \n",
      " 1   Population                            457 non-null    float64\n",
      " 2   Violent\n",
      "crime                         457 non-null    float64\n",
      " 3   Murder and\n",
      "nonnegligent\n",
      "manslaughter  457 non-null    float64\n",
      " 4   Rape1                                 457 non-null    float64\n",
      " 5   Robbery                               457 non-null    float64\n",
      " 6   Aggravated\n",
      "assault                    457 non-null    float64\n",
      " 7   Property\n",
      "crime                        457 non-null    float64\n",
      " 8   Burglary                              457 non-null    float64\n",
      " 9   Larceny-\n",
      "theft                        457 non-null    float64\n",
      " 10  Motor\n",
      "vehicle\n",
      "theft                   457 non-null    float64\n",
      " 11  Arson                                 457 non-null    float64\n",
      "dtypes: float64(11), object(1)\n",
      "memory usage: 43.1+ KB\n"
     ]
    }
   ],
   "source": [
    "#data information\n",
    "data.info()"
   ]
  },
  {
   "cell_type": "markdown",
   "id": "d1c935e4",
   "metadata": {},
   "source": [
    "# Preprocessing"
   ]
  },
  {
   "cell_type": "code",
   "execution_count": 12,
   "id": "012291b7",
   "metadata": {},
   "outputs": [],
   "source": [
    "#clean up column names by removing the \\n charater\n",
    "data.columns = [x.replace(\"\\n\", \" \") for x in data.columns.to_list()]"
   ]
  },
  {
   "cell_type": "code",
   "execution_count": 20,
   "id": "fef7d5a8",
   "metadata": {},
   "outputs": [],
   "source": [
    "#drop nan\n",
    "data = data.dropna()"
   ]
  },
  {
   "cell_type": "code",
   "execution_count": 21,
   "id": "26931603",
   "metadata": {},
   "outputs": [
    {
     "data": {
      "text/plain": [
       "(457, 12)"
      ]
     },
     "execution_count": 21,
     "metadata": {},
     "output_type": "execute_result"
    }
   ],
   "source": [
    "data.shape"
   ]
  },
  {
   "cell_type": "code",
   "execution_count": 13,
   "id": "cb2e4254",
   "metadata": {},
   "outputs": [
    {
     "name": "stdout",
     "output_type": "stream",
     "text": [
      "<class 'pandas.core.frame.DataFrame'>\n",
      "RangeIndex: 458 entries, 0 to 457\n",
      "Data columns (total 12 columns):\n",
      " #   Column                                Non-Null Count  Dtype  \n",
      "---  ------                                --------------  -----  \n",
      " 0   City                                  458 non-null    object \n",
      " 1   Population                            457 non-null    float64\n",
      " 2   Violent crime                         457 non-null    float64\n",
      " 3   Murder and nonnegligent manslaughter  457 non-null    float64\n",
      " 4   Rape1                                 457 non-null    float64\n",
      " 5   Robbery                               457 non-null    float64\n",
      " 6   Aggravated assault                    457 non-null    float64\n",
      " 7   Property crime                        457 non-null    float64\n",
      " 8   Burglary                              457 non-null    float64\n",
      " 9   Larceny- theft                        457 non-null    float64\n",
      " 10  Motor vehicle theft                   457 non-null    float64\n",
      " 11  Arson                                 457 non-null    float64\n",
      "dtypes: float64(11), object(1)\n",
      "memory usage: 43.1+ KB\n"
     ]
    }
   ],
   "source": [
    "#data information\n",
    "data.info()"
   ]
  },
  {
   "cell_type": "markdown",
   "id": "e320dde8",
   "metadata": {},
   "source": [
    "# Data Visualization"
   ]
  },
  {
   "cell_type": "code",
   "execution_count": null,
   "id": "8a4badb7",
   "metadata": {},
   "outputs": [],
   "source": []
  }
 ],
 "metadata": {
  "kernelspec": {
   "display_name": "Python 3 (ipykernel)",
   "language": "python",
   "name": "python3"
  },
  "language_info": {
   "codemirror_mode": {
    "name": "ipython",
    "version": 3
   },
   "file_extension": ".py",
   "mimetype": "text/x-python",
   "name": "python",
   "nbconvert_exporter": "python",
   "pygments_lexer": "ipython3",
   "version": "3.9.7"
  }
 },
 "nbformat": 4,
 "nbformat_minor": 5
}
