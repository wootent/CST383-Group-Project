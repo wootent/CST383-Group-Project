{
 "cells": [
  {
   "cell_type": "markdown",
   "id": "691d03c4",
   "metadata": {},
   "source": [
    "# Project Specifications CST 383 Data Science"
   ]
  },
  {
   "cell_type": "markdown",
   "id": "c9ce9b8f",
   "metadata": {},
   "source": [
    "Thomas Wooten, Austin Stewart, Miguel Nunez"
   ]
  },
  {
   "cell_type": "markdown",
   "id": "9897eb27",
   "metadata": {},
   "source": [
    "# Research Question"
   ]
  },
  {
   "cell_type": "markdown",
   "id": "5061878f",
   "metadata": {},
   "source": [
    "Given the population and violent crime of a city, can we predict the amount of property crime"
   ]
  },
  {
   "cell_type": "markdown",
   "id": "98d7c754",
   "metadata": {},
   "source": [
    "# Hypothesis"
   ]
  },
  {
   "cell_type": "markdown",
   "id": "52979600",
   "metadata": {},
   "source": [
    "# Data Set"
   ]
  },
  {
   "cell_type": "markdown",
   "id": "e4583731",
   "metadata": {},
   "source": [
    "https://github.com/wootent/CST383-Group-Project/blob/b70608b808cf8b08abf9809803f8a730d454787d/california.xls"
   ]
  },
  {
   "cell_type": "markdown",
   "id": "d7b76798",
   "metadata": {},
   "source": [
    "# Description of Data Set"
   ]
  },
  {
   "cell_type": "markdown",
   "id": "68dc336a",
   "metadata": {},
   "source": [
    "Orginal data set taken from:\n",
    "https://ucr.fbi.gov/crime-in-the-u.s/2019/crime-in-the-u.s.-2019/tables/table-8/table-8-state-cuts/california.xls\n",
    "\n",
    "• Source - US department of Justice, Fedral Burearu of Investigation\n",
    "• 2019\n",
    "• Offenses Known to Law Enforcement by city\n",
    "• data has no N/A values"
   ]
  },
  {
   "cell_type": "markdown",
   "id": "9c07d49d",
   "metadata": {},
   "source": [
    "# Features used in our final model"
   ]
  },
  {
   "cell_type": "markdown",
   "id": "df43ed81",
   "metadata": {},
   "source": [
    "Population, Burglary, Larceny Theft, Motor Vehicle Theft, Property Crime"
   ]
  },
  {
   "cell_type": "markdown",
   "id": "c8c9fb2f",
   "metadata": {},
   "source": [
    "# Machine Learning Model"
   ]
  },
  {
   "cell_type": "markdown",
   "id": "062998ce",
   "metadata": {},
   "source": [
    "# Data Exploration"
   ]
  },
  {
   "cell_type": "code",
   "execution_count": 10,
   "id": "3cf1e630",
   "metadata": {},
   "outputs": [],
   "source": [
    "import pandas as pd\n",
    "import numpy as np\n",
    "\n",
    "#read in the data\n",
    "data = pd.read_excel('https://github.com/wootent/CST383-Group-Project/blob/86644cf161197b82847f0a9c8b87e94998a50abe/california.xls?raw=true', header=4)\n"
   ]
  },
  {
   "cell_type": "code",
   "execution_count": 11,
   "id": "ceb4b4c6",
   "metadata": {},
   "outputs": [
    {
     "name": "stdout",
     "output_type": "stream",
     "text": [
      "<class 'pandas.core.frame.DataFrame'>\n",
      "RangeIndex: 458 entries, 0 to 457\n",
      "Data columns (total 12 columns):\n",
      " #   Column                                Non-Null Count  Dtype  \n",
      "---  ------                                --------------  -----  \n",
      " 0   City                                  458 non-null    object \n",
      " 1   Population                            457 non-null    float64\n",
      " 2   Violent\n",
      "crime                         457 non-null    float64\n",
      " 3   Murder and\n",
      "nonnegligent\n",
      "manslaughter  457 non-null    float64\n",
      " 4   Rape1                                 457 non-null    float64\n",
      " 5   Robbery                               457 non-null    float64\n",
      " 6   Aggravated\n",
      "assault                    457 non-null    float64\n",
      " 7   Property\n",
      "crime                        457 non-null    float64\n",
      " 8   Burglary                              457 non-null    float64\n",
      " 9   Larceny-\n",
      "theft                        457 non-null    float64\n",
      " 10  Motor\n",
      "vehicle\n",
      "theft                   457 non-null    float64\n",
      " 11  Arson                                 457 non-null    float64\n",
      "dtypes: float64(11), object(1)\n",
      "memory usage: 43.1+ KB\n"
     ]
    }
   ],
   "source": [
    "#data information\n",
    "data.info()"
   ]
  },
  {
   "cell_type": "markdown",
   "id": "7ed03541",
   "metadata": {},
   "source": [
    "# Preprocessing"
   ]
  },
  {
   "cell_type": "code",
   "execution_count": null,
   "id": "9d6a85e9",
   "metadata": {},
   "outputs": [],
   "source": [
    "#clean up column names by removing the \\n charater\n",
    "data.columns = [x.replace(\"\\n\", \" \") for x in data.columns.to_list()]"
   ]
  },
  {
   "cell_type": "markdown",
   "id": "730b37b5",
   "metadata": {},
   "source": [
    "# Data Visualization"
   ]
  },
  {
   "cell_type": "code",
   "execution_count": null,
   "id": "ade65326",
   "metadata": {},
   "outputs": [],
   "source": []
  }
 ],
 "metadata": {
  "kernelspec": {
   "display_name": "Python 3 (ipykernel)",
   "language": "python",
   "name": "python3"
  },
  "language_info": {
   "codemirror_mode": {
    "name": "ipython",
    "version": 3
   },
   "file_extension": ".py",
   "mimetype": "text/x-python",
   "name": "python",
   "nbconvert_exporter": "python",
   "pygments_lexer": "ipython3",
   "version": "3.9.7"
  }
 },
 "nbformat": 4,
 "nbformat_minor": 5
}
