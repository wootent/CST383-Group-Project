{
 "cells": [
  {
   "cell_type": "markdown",
   "id": "80271e8d",
   "metadata": {},
   "source": [
    "# Project Specifications CST 383 Data Science"
   ]
  },
  {
   "cell_type": "markdown",
   "id": "57df4d91",
   "metadata": {},
   "source": [
    "Thomas Wooten, Austin Stewart, Miguel Nunez"
   ]
  },
  {
   "cell_type": "markdown",
   "id": "1917d4eb",
   "metadata": {},
   "source": [
    "# Research Question"
   ]
  },
  {
   "cell_type": "markdown",
   "id": "5b4580c6",
   "metadata": {},
   "source": [
    "Given the population and violent crime of a city, can we predict the amount of property crime"
   ]
  },
  {
   "cell_type": "markdown",
   "id": "025733b4",
   "metadata": {},
   "source": [
    "# Hypothesis"
   ]
  },
  {
   "cell_type": "markdown",
   "id": "f7859be6",
   "metadata": {},
   "source": [
    "# Data Set"
   ]
  },
  {
   "cell_type": "markdown",
   "id": "bdf7fd41",
   "metadata": {},
   "source": [
    "https://github.com/wootent/CST383-Group-Project/blob/b70608b808cf8b08abf9809803f8a730d454787d/california.xls"
   ]
  },
  {
   "cell_type": "markdown",
   "id": "b6ad8f56",
   "metadata": {},
   "source": [
    "# Description of Data Set"
   ]
  },
  {
   "cell_type": "markdown",
   "id": "08f59ed8",
   "metadata": {},
   "source": [
    "Orginal data set taken from:\n",
    "https://ucr.fbi.gov/crime-in-the-u.s/2019/crime-in-the-u.s.-2019/tables/table-8/table-8-state-cuts/california.xls\n",
    "\n",
    "• Source - US department of Justice, Fedral Burearu of Investigation\n",
    "• 2019\n",
    "• Offenses Known to Law Enforcement by city\n",
    "• data has no N/A values"
   ]
  },
  {
   "cell_type": "markdown",
   "id": "220611a2",
   "metadata": {},
   "source": [
    "# Features used in our final model"
   ]
  },
  {
   "cell_type": "markdown",
   "id": "7d1f1518",
   "metadata": {},
   "source": [
    "Population, Burglary, Larceny Theft, Motor Vehicle Theft, Property Crime"
   ]
  },
  {
   "cell_type": "markdown",
   "id": "9b3d8408",
   "metadata": {},
   "source": [
    "# Machine Learning Model"
   ]
  },
  {
   "cell_type": "markdown",
   "id": "03a91e01",
   "metadata": {},
   "source": [
    "# Data Exploration"
   ]
  },
  {
   "cell_type": "code",
   "execution_count": null,
   "id": "06c32cc8",
   "metadata": {},
   "outputs": [],
   "source": [
    "import pandas as pd\n",
    "import numpy as np\n",
    "\n",
    "#read in the data\n",
    "data = pd.read_excel('https://github.com/wootent/CST383-Group-Project/blob/main/california.xls', header=4)\n"
   ]
  },
  {
   "cell_type": "code",
   "execution_count": null,
   "id": "494e48b2",
   "metadata": {},
   "outputs": [],
   "source": [
    "#data information\n",
    "data.info()"
   ]
  },
  {
   "cell_type": "markdown",
   "id": "fb5bb410",
   "metadata": {},
   "source": [
    "# Preprocessing"
   ]
  },
  {
   "cell_type": "code",
   "execution_count": null,
   "id": "1f3411fd",
   "metadata": {},
   "outputs": [],
   "source": [
    "#clean up column names by removing the \\n charater\n",
    "data.columns = [x.replace(\"\\n\", \" \") for x in data.columns.to_list()]"
   ]
  },
  {
   "cell_type": "markdown",
   "id": "ff884fb7",
   "metadata": {},
   "source": [
    "# Data Visualization"
   ]
  },
  {
   "cell_type": "code",
   "execution_count": null,
   "id": "dff8457c",
   "metadata": {},
   "outputs": [],
   "source": []
  }
 ],
 "metadata": {
  "kernelspec": {
   "display_name": "Python 3 (ipykernel)",
   "language": "python",
   "name": "python3"
  },
  "language_info": {
   "codemirror_mode": {
    "name": "ipython",
    "version": 3
   },
   "file_extension": ".py",
   "mimetype": "text/x-python",
   "name": "python",
   "nbconvert_exporter": "python",
   "pygments_lexer": "ipython3",
   "version": "3.9.7"
  }
 },
 "nbformat": 4,
 "nbformat_minor": 5
}
