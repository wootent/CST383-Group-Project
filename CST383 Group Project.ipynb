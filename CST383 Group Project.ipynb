{
 "cells": [
  {
   "cell_type": "markdown",
   "id": "9e7f818c",
   "metadata": {},
   "source": [
    "# Project Specifications CST 383 Data Science"
   ]
  },
  {
   "cell_type": "markdown",
   "id": "3779e4df",
   "metadata": {},
   "source": [
    "Thomas Wooten, Austin Stewart, Miguel Nunez"
   ]
  },
  {
   "cell_type": "markdown",
   "id": "0f8e97fa",
   "metadata": {},
   "source": [
    "# Research Question"
   ]
  },
  {
   "cell_type": "markdown",
   "id": "008e72eb",
   "metadata": {},
   "source": [
    "Given the population and violent crime of a city, can we predict the amount of property crime"
   ]
  },
  {
   "cell_type": "markdown",
   "id": "76fe3ebd",
   "metadata": {},
   "source": [
    "# Hypothesis"
   ]
  },
  {
   "cell_type": "markdown",
   "id": "35e71132",
   "metadata": {},
   "source": [
    "# Data Set"
   ]
  },
  {
   "cell_type": "markdown",
   "id": "4456bf64",
   "metadata": {},
   "source": [
    "https://github.com/wootent/CST383-Group-Project/blob/b70608b808cf8b08abf9809803f8a730d454787d/california.xls"
   ]
  },
  {
   "cell_type": "markdown",
   "id": "8e0201ae",
   "metadata": {},
   "source": [
    "# Description of Data Set"
   ]
  },
  {
   "cell_type": "markdown",
   "id": "df1892a1",
   "metadata": {},
   "source": [
    "Orginal data set taken from:\n",
    "https://ucr.fbi.gov/crime-in-the-u.s/2019/crime-in-the-u.s.-2019/tables/table-8/table-8-state-cuts/california.xls\n",
    "\n",
    "• Source - US department of Justice, Fedral Burearu of Investigation\n",
    "• 2019\n",
    "• Offenses Known to Law Enforcement by city\n",
    "• data has no N/A values"
   ]
  },
  {
   "cell_type": "markdown",
   "id": "d6801b5d",
   "metadata": {},
   "source": [
    "# Features used in our final model"
   ]
  },
  {
   "cell_type": "markdown",
   "id": "3ce0c3dc",
   "metadata": {},
   "source": [
    "Population, Burglary, Larceny Theft, Motor Vehicle Theft, Property Crime"
   ]
  },
  {
   "cell_type": "markdown",
   "id": "e9d28bba",
   "metadata": {},
   "source": [
    "# Machine Learning Model"
   ]
  },
  {
   "cell_type": "markdown",
   "id": "87f1872a",
   "metadata": {},
   "source": [
    "# Data Exploration"
   ]
  },
  {
   "cell_type": "code",
   "execution_count": null,
   "id": "3de4f2b7",
   "metadata": {},
   "outputs": [],
   "source": [
    "import pandas as pd\n",
    "import numpy as np\n",
    "\n",
    "#read in the data\n",
    "data = pd.read_csv('https://raw.githubusercontent.com/wootent/CST383-Group-Project/california.xls')\n",
    "\n",
    "#data information\n",
    "data.info()"
   ]
  },
  {
   "cell_type": "markdown",
   "id": "a8d582c2",
   "metadata": {},
   "source": [
    "# Preprocessing"
   ]
  },
  {
   "cell_type": "code",
   "execution_count": null,
   "id": "cdfc5394",
   "metadata": {},
   "outputs": [],
   "source": [
    "#clean up column names by removing the \\n charater\n",
    "data.columns = [x.replace(\"\\n\", \" \") for x in data.columns.to_list()]"
   ]
  },
  {
   "cell_type": "markdown",
   "id": "dbd8c92d",
   "metadata": {},
   "source": [
    "# Data Visualization"
   ]
  },
  {
   "cell_type": "code",
   "execution_count": null,
   "id": "280a878e",
   "metadata": {},
   "outputs": [],
   "source": []
  }
 ],
 "metadata": {
  "kernelspec": {
   "display_name": "Python 3 (ipykernel)",
   "language": "python",
   "name": "python3"
  },
  "language_info": {
   "codemirror_mode": {
    "name": "ipython",
    "version": 3
   },
   "file_extension": ".py",
   "mimetype": "text/x-python",
   "name": "python",
   "nbconvert_exporter": "python",
   "pygments_lexer": "ipython3",
   "version": "3.9.7"
  }
 },
 "nbformat": 4,
 "nbformat_minor": 5
}
